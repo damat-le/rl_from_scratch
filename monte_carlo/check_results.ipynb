{
 "cells": [
  {
   "cell_type": "markdown",
   "metadata": {},
   "source": [
    "## Check training results"
   ]
  },
  {
   "cell_type": "markdown",
   "metadata": {},
   "source": [
    "### Value function"
   ]
  },
  {
   "cell_type": "code",
   "execution_count": null,
   "metadata": {},
   "outputs": [],
   "source": [
    "import pickle \n",
    "from utils import plot_valuefunc_and_policy\n",
    "from first_visit import FirstVisitMC"
   ]
  },
  {
   "cell_type": "code",
   "execution_count": null,
   "metadata": {},
   "outputs": [],
   "source": [
    "mc = pickle.load(open('output/mc.pkl', 'rb'))"
   ]
  },
  {
   "cell_type": "code",
   "execution_count": null,
   "metadata": {},
   "outputs": [],
   "source": [
    "plot_valuefunc_and_policy(mc.Q)"
   ]
  },
  {
   "cell_type": "markdown",
   "metadata": {},
   "source": [
    "### Run an episode with the trained policy"
   ]
  },
  {
   "cell_type": "code",
   "execution_count": null,
   "metadata": {},
   "outputs": [],
   "source": [
    "mc.generate_episode(render=True)"
   ]
  },
  {
   "cell_type": "markdown",
   "metadata": {},
   "source": [
    "---"
   ]
  },
  {
   "cell_type": "markdown",
   "metadata": {},
   "source": [
    "### Some debugging"
   ]
  },
  {
   "cell_type": "code",
   "execution_count": null,
   "metadata": {},
   "outputs": [],
   "source": [
    "from first_visit import FirstVisitMC\n",
    "import gym\n",
    "\n",
    "env = gym.make('FrozenLake8x8-v1', is_slippery=False)\n",
    "\n",
    "mc = FirstVisitMC(env, gamma=.99, eps=.4)"
   ]
  },
  {
   "cell_type": "code",
   "execution_count": null,
   "metadata": {},
   "outputs": [],
   "source": [
    "mc.policy[:,0]"
   ]
  },
  {
   "cell_type": "code",
   "execution_count": null,
   "metadata": {},
   "outputs": [],
   "source": [
    "mc.Q[:,0]"
   ]
  },
  {
   "cell_type": "code",
   "execution_count": null,
   "metadata": {},
   "outputs": [],
   "source": [
    "mc.train(n_episodes=1000, )"
   ]
  },
  {
   "cell_type": "code",
   "execution_count": null,
   "metadata": {},
   "outputs": [],
   "source": [
    "from utils import plot_valuefunc_and_policy\n",
    "plot_valuefunc_and_policy(mc.Q, savefig=False)"
   ]
  },
  {
   "cell_type": "code",
   "execution_count": 48,
   "metadata": {},
   "outputs": [],
   "source": [
    "desc = np.array([\n",
    "    \"SSSSSSSS\",\n",
    "    \"SSSSSSSS\",\n",
    "    \"SSSHSSSS\",\n",
    "    \"SSSSSHSS\",\n",
    "    \"SSSHSSSS\",\n",
    "    \"SHHSSSHS\",\n",
    "    \"SHSSHSHS\",\n",
    "    \"SSSHSSSG\",\n",
    "    ], dtype='c')"
   ]
  },
  {
   "cell_type": "code",
   "execution_count": 50,
   "metadata": {},
   "outputs": [],
   "source": [
    "desc[np.where(desc == b'S')] = b'F'"
   ]
  },
  {
   "cell_type": "code",
   "execution_count": 51,
   "metadata": {},
   "outputs": [
    {
     "data": {
      "text/plain": [
       "array([[b'F', b'F', b'F', b'F', b'F', b'F', b'F', b'F'],\n",
       "       [b'F', b'F', b'F', b'F', b'F', b'F', b'F', b'F'],\n",
       "       [b'F', b'F', b'F', b'H', b'F', b'F', b'F', b'F'],\n",
       "       [b'F', b'F', b'F', b'F', b'F', b'H', b'F', b'F'],\n",
       "       [b'F', b'F', b'F', b'H', b'F', b'F', b'F', b'F'],\n",
       "       [b'F', b'H', b'H', b'F', b'F', b'F', b'H', b'F'],\n",
       "       [b'F', b'H', b'F', b'F', b'H', b'F', b'H', b'F'],\n",
       "       [b'F', b'F', b'F', b'H', b'F', b'F', b'F', b'G']], dtype='|S1')"
      ]
     },
     "execution_count": 51,
     "metadata": {},
     "output_type": "execute_result"
    }
   ],
   "source": [
    "desc"
   ]
  },
  {
   "cell_type": "code",
   "execution_count": 36,
   "metadata": {},
   "outputs": [],
   "source": [
    "import numpy as np\n",
    "#desc = np.array([\"SFFF\", \"SHFH\", \"SFFH\", \"HFFG\"], dtype='c')\n",
    "initial_state_distrib = np.array(desc == b\"S\").astype(\"float64\").ravel()\n",
    "initial_state_distrib /= initial_state_distrib.sum()"
   ]
  },
  {
   "cell_type": "code",
   "execution_count": 37,
   "metadata": {},
   "outputs": [
    {
     "data": {
      "text/plain": [
       "array([1., 1., 1., 1., 1., 1., 1., 1., 1., 1., 1., 1., 1., 1., 1., 1., 1.,\n",
       "       1., 1., 0., 1., 1., 1., 1., 1., 1., 1., 1., 1., 0., 1., 1., 1., 1.,\n",
       "       1., 0., 1., 1., 1., 1., 1., 0., 0., 1., 1., 1., 0., 1., 1., 0., 1.,\n",
       "       1., 0., 1., 0., 1., 1., 1., 1., 0., 1., 1., 1., 0.])"
      ]
     },
     "execution_count": 37,
     "metadata": {},
     "output_type": "execute_result"
    }
   ],
   "source": [
    "np.array(desc == b\"S\").astype(\"float64\").ravel()"
   ]
  },
  {
   "cell_type": "code",
   "execution_count": 31,
   "metadata": {},
   "outputs": [
    {
     "data": {
      "text/plain": [
       "array([nan])"
      ]
     },
     "execution_count": 31,
     "metadata": {},
     "output_type": "execute_result"
    }
   ],
   "source": [
    "initial_state_distrib"
   ]
  },
  {
   "cell_type": "code",
   "execution_count": 28,
   "metadata": {},
   "outputs": [
    {
     "data": {
      "text/plain": [
       "8"
      ]
     },
     "execution_count": 28,
     "metadata": {},
     "output_type": "execute_result"
    }
   ],
   "source": [
    "categorical_sample(initial_state_distrib, np.random)"
   ]
  },
  {
   "cell_type": "code",
   "execution_count": 1,
   "metadata": {},
   "outputs": [],
   "source": [
    "def categorical_sample(prob_n, np_random):\n",
    "    \"\"\"\n",
    "    Sample from categorical distribution\n",
    "    Each row specifies class probabilities\n",
    "    \"\"\"\n",
    "    prob_n = np.asarray(prob_n)\n",
    "    csprob_n = np.cumsum(prob_n)\n",
    "    return (csprob_n > np_random.random()).argmax()\n"
   ]
  },
  {
   "cell_type": "code",
   "execution_count": 2,
   "metadata": {},
   "outputs": [
    {
     "name": "stderr",
     "output_type": "stream",
     "text": [
      "/home/rico/.python-envs/rl-env/lib/python3.10/site-packages/gym/wrappers/monitoring/video_recorder.py:1: DeprecationWarning: The distutils package is deprecated and slated for removal in Python 3.12. Use setuptools or check PEP 632 for potential alternatives\n",
      "  import distutils.spawn\n"
     ]
    }
   ],
   "source": [
    "from gym_minigrid.wrappers import *\n",
    "env = gym.make('MiniGrid-SimpleCrossingS9N1-v0')\n",
    "env = FlatObsWrapper(env)"
   ]
  },
  {
   "cell_type": "code",
   "execution_count": 1,
   "metadata": {},
   "outputs": [
    {
     "ename": "NameError",
     "evalue": "name 'env' is not defined",
     "output_type": "error",
     "traceback": [
      "\u001b[0;31m---------------------------------------------------------------------------\u001b[0m",
      "\u001b[0;31mNameError\u001b[0m                                 Traceback (most recent call last)",
      "\u001b[1;32m/home/rico/Shared/PhD/courses/reinforcement_learning/sketches/rl_from_scratch/monte_carlo/check_results.ipynb Cell 24'\u001b[0m in \u001b[0;36m<cell line: 1>\u001b[0;34m()\u001b[0m\n\u001b[0;32m----> <a href='vscode-notebook-cell:/home/rico/Shared/PhD/courses/reinforcement_learning/sketches/rl_from_scratch/monte_carlo/check_results.ipynb#ch0000023?line=0'>1</a>\u001b[0m env\u001b[39m.\u001b[39mreset()\n",
      "\u001b[0;31mNameError\u001b[0m: name 'env' is not defined"
     ]
    }
   ],
   "source": [
    "env.reset()"
   ]
  },
  {
   "cell_type": "code",
   "execution_count": null,
   "metadata": {},
   "outputs": [],
   "source": []
  }
 ],
 "metadata": {
  "interpreter": {
   "hash": "5a4f39ba1b1c2924c405d8366208902272a6044b5f67a83ae420eee0c3ebcb8f"
  },
  "kernelspec": {
   "display_name": "Python 3.8.10 ('.general-env')",
   "language": "python",
   "name": "python3"
  },
  "language_info": {
   "codemirror_mode": {
    "name": "ipython",
    "version": 3
   },
   "file_extension": ".py",
   "mimetype": "text/x-python",
   "name": "python",
   "nbconvert_exporter": "python",
   "pygments_lexer": "ipython3",
   "version": "3.10.1"
  },
  "orig_nbformat": 4
 },
 "nbformat": 4,
 "nbformat_minor": 2
}
